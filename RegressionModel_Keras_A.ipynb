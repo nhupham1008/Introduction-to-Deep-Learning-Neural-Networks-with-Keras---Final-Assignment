{
 "cells": [
  {
   "cell_type": "markdown",
   "id": "23cd050f-7716-4358-b249-c985739ae9e6",
   "metadata": {},
   "source": [
    "## Download and Clean Dataset\n",
    "Let's start by importing the <em>pandas</em> and the Numpy libraries."
   ]
  },
  {
   "cell_type": "code",
   "execution_count": 1,
   "id": "0a0ec527-5ba0-4275-9ecb-c0347114ddcc",
   "metadata": {},
   "outputs": [],
   "source": [
    "import pandas as pd\n",
    "import numpy as np"
   ]
  },
  {
   "cell_type": "markdown",
   "id": "9af36ae9-02f0-45e3-bf9e-99cc9280d32a",
   "metadata": {},
   "source": [
    "We will be using the dataset provided in the assignment\n",
    "\n",
    "<strong>The dataset is about the compressive strength of different samples of concrete based on the volumes of the different ingredients that were used to make them. Ingredients include:</strong>\n",
    "\n",
    "<strong>1. Cement</strong>\n",
    "\n",
    "<strong>2. Blast Furnace Slag</strong>\n",
    "\n",
    "<strong>3. Fly Ash</strong>\n",
    "\n",
    "<strong>4. Water</strong>\n",
    "\n",
    "<strong>5. Superplasticizer</strong>\n",
    "\n",
    "<strong>6. Coarse Aggregate</strong>\n",
    "\n",
    "<strong>7. Fine Aggregate</strong>\n",
    "\n",
    "Let's download and read the dataset into a <em>pandas</em> dataframe."
   ]
  },
  {
   "cell_type": "code",
   "execution_count": 2,
   "id": "f1707795-58ed-4cd0-9098-7deebe4e0f4f",
   "metadata": {},
   "outputs": [
    {
     "data": {
      "text/html": [
       "<div>\n",
       "<style scoped>\n",
       "    .dataframe tbody tr th:only-of-type {\n",
       "        vertical-align: middle;\n",
       "    }\n",
       "\n",
       "    .dataframe tbody tr th {\n",
       "        vertical-align: top;\n",
       "    }\n",
       "\n",
       "    .dataframe thead th {\n",
       "        text-align: right;\n",
       "    }\n",
       "</style>\n",
       "<table border=\"1\" class=\"dataframe\">\n",
       "  <thead>\n",
       "    <tr style=\"text-align: right;\">\n",
       "      <th></th>\n",
       "      <th>Cement</th>\n",
       "      <th>Blast Furnace Slag</th>\n",
       "      <th>Fly Ash</th>\n",
       "      <th>Water</th>\n",
       "      <th>Superplasticizer</th>\n",
       "      <th>Coarse Aggregate</th>\n",
       "      <th>Fine Aggregate</th>\n",
       "      <th>Age</th>\n",
       "      <th>Strength</th>\n",
       "    </tr>\n",
       "  </thead>\n",
       "  <tbody>\n",
       "    <tr>\n",
       "      <th>0</th>\n",
       "      <td>540.0</td>\n",
       "      <td>0.0</td>\n",
       "      <td>0.0</td>\n",
       "      <td>162.0</td>\n",
       "      <td>2.5</td>\n",
       "      <td>1040.0</td>\n",
       "      <td>676.0</td>\n",
       "      <td>28</td>\n",
       "      <td>79.99</td>\n",
       "    </tr>\n",
       "    <tr>\n",
       "      <th>1</th>\n",
       "      <td>540.0</td>\n",
       "      <td>0.0</td>\n",
       "      <td>0.0</td>\n",
       "      <td>162.0</td>\n",
       "      <td>2.5</td>\n",
       "      <td>1055.0</td>\n",
       "      <td>676.0</td>\n",
       "      <td>28</td>\n",
       "      <td>61.89</td>\n",
       "    </tr>\n",
       "    <tr>\n",
       "      <th>2</th>\n",
       "      <td>332.5</td>\n",
       "      <td>142.5</td>\n",
       "      <td>0.0</td>\n",
       "      <td>228.0</td>\n",
       "      <td>0.0</td>\n",
       "      <td>932.0</td>\n",
       "      <td>594.0</td>\n",
       "      <td>270</td>\n",
       "      <td>40.27</td>\n",
       "    </tr>\n",
       "    <tr>\n",
       "      <th>3</th>\n",
       "      <td>332.5</td>\n",
       "      <td>142.5</td>\n",
       "      <td>0.0</td>\n",
       "      <td>228.0</td>\n",
       "      <td>0.0</td>\n",
       "      <td>932.0</td>\n",
       "      <td>594.0</td>\n",
       "      <td>365</td>\n",
       "      <td>41.05</td>\n",
       "    </tr>\n",
       "    <tr>\n",
       "      <th>4</th>\n",
       "      <td>198.6</td>\n",
       "      <td>132.4</td>\n",
       "      <td>0.0</td>\n",
       "      <td>192.0</td>\n",
       "      <td>0.0</td>\n",
       "      <td>978.4</td>\n",
       "      <td>825.5</td>\n",
       "      <td>360</td>\n",
       "      <td>44.30</td>\n",
       "    </tr>\n",
       "  </tbody>\n",
       "</table>\n",
       "</div>"
      ],
      "text/plain": [
       "   Cement  Blast Furnace Slag  Fly Ash  Water  Superplasticizer  \\\n",
       "0   540.0                 0.0      0.0  162.0               2.5   \n",
       "1   540.0                 0.0      0.0  162.0               2.5   \n",
       "2   332.5               142.5      0.0  228.0               0.0   \n",
       "3   332.5               142.5      0.0  228.0               0.0   \n",
       "4   198.6               132.4      0.0  192.0               0.0   \n",
       "\n",
       "   Coarse Aggregate  Fine Aggregate  Age  Strength  \n",
       "0            1040.0           676.0   28     79.99  \n",
       "1            1055.0           676.0   28     61.89  \n",
       "2             932.0           594.0  270     40.27  \n",
       "3             932.0           594.0  365     41.05  \n",
       "4             978.4           825.5  360     44.30  "
      ]
     },
     "execution_count": 2,
     "metadata": {},
     "output_type": "execute_result"
    }
   ],
   "source": [
    "concrete_data = pd.read_csv('https://s3-api.us-geo.objectstorage.softlayer.net/cf-courses-data/CognitiveClass/DL0101EN/labs/data/concrete_data.csv')\n",
    "concrete_data.head()"
   ]
  },
  {
   "cell_type": "markdown",
   "id": "56257c65-9332-48c1-b487-bea51a5ee786",
   "metadata": {},
   "source": [
    "So the first concrete sample has 540 cubic meter of cement, 0 cubic meter of blast furnace slag, 0 cubic meter of fly ash, 162 cubic meter of water, 2.5 cubic meter of superplaticizer, 1040 cubic meter of coarse aggregate, 676 cubic meter of fine aggregate. Such a concrete mix which is 28 days old, has a compressive strength of 79.99 MPa. \n",
    "\n",
    "### Check how many data points we have."
   ]
  },
  {
   "cell_type": "code",
   "execution_count": 3,
   "id": "23a3f7a2-92d4-4a03-8dc6-cd18ef4e73b3",
   "metadata": {},
   "outputs": [
    {
     "data": {
      "text/plain": [
       "(1030, 9)"
      ]
     },
     "execution_count": 3,
     "metadata": {},
     "output_type": "execute_result"
    }
   ],
   "source": [
    "concrete_data.shape"
   ]
  },
  {
   "cell_type": "markdown",
   "id": "f1dcd821-e289-449e-a748-27ee89602520",
   "metadata": {},
   "source": [
    "So, there are approximately 1000 samples to train our model on. Because of the few samples, we have to be careful not to overfit the training data.\n",
    "Let's check the dataset for any missing values."
   ]
  },
  {
   "cell_type": "code",
   "execution_count": 4,
   "id": "564203ac-08b0-4f3c-a37a-2056cc01a955",
   "metadata": {},
   "outputs": [
    {
     "data": {
      "text/html": [
       "<div>\n",
       "<style scoped>\n",
       "    .dataframe tbody tr th:only-of-type {\n",
       "        vertical-align: middle;\n",
       "    }\n",
       "\n",
       "    .dataframe tbody tr th {\n",
       "        vertical-align: top;\n",
       "    }\n",
       "\n",
       "    .dataframe thead th {\n",
       "        text-align: right;\n",
       "    }\n",
       "</style>\n",
       "<table border=\"1\" class=\"dataframe\">\n",
       "  <thead>\n",
       "    <tr style=\"text-align: right;\">\n",
       "      <th></th>\n",
       "      <th>Cement</th>\n",
       "      <th>Blast Furnace Slag</th>\n",
       "      <th>Fly Ash</th>\n",
       "      <th>Water</th>\n",
       "      <th>Superplasticizer</th>\n",
       "      <th>Coarse Aggregate</th>\n",
       "      <th>Fine Aggregate</th>\n",
       "      <th>Age</th>\n",
       "      <th>Strength</th>\n",
       "    </tr>\n",
       "  </thead>\n",
       "  <tbody>\n",
       "    <tr>\n",
       "      <th>count</th>\n",
       "      <td>1030.000000</td>\n",
       "      <td>1030.000000</td>\n",
       "      <td>1030.000000</td>\n",
       "      <td>1030.000000</td>\n",
       "      <td>1030.000000</td>\n",
       "      <td>1030.000000</td>\n",
       "      <td>1030.000000</td>\n",
       "      <td>1030.000000</td>\n",
       "      <td>1030.000000</td>\n",
       "    </tr>\n",
       "    <tr>\n",
       "      <th>mean</th>\n",
       "      <td>281.167864</td>\n",
       "      <td>73.895825</td>\n",
       "      <td>54.188350</td>\n",
       "      <td>181.567282</td>\n",
       "      <td>6.204660</td>\n",
       "      <td>972.918932</td>\n",
       "      <td>773.580485</td>\n",
       "      <td>45.662136</td>\n",
       "      <td>35.817961</td>\n",
       "    </tr>\n",
       "    <tr>\n",
       "      <th>std</th>\n",
       "      <td>104.506364</td>\n",
       "      <td>86.279342</td>\n",
       "      <td>63.997004</td>\n",
       "      <td>21.354219</td>\n",
       "      <td>5.973841</td>\n",
       "      <td>77.753954</td>\n",
       "      <td>80.175980</td>\n",
       "      <td>63.169912</td>\n",
       "      <td>16.705742</td>\n",
       "    </tr>\n",
       "    <tr>\n",
       "      <th>min</th>\n",
       "      <td>102.000000</td>\n",
       "      <td>0.000000</td>\n",
       "      <td>0.000000</td>\n",
       "      <td>121.800000</td>\n",
       "      <td>0.000000</td>\n",
       "      <td>801.000000</td>\n",
       "      <td>594.000000</td>\n",
       "      <td>1.000000</td>\n",
       "      <td>2.330000</td>\n",
       "    </tr>\n",
       "    <tr>\n",
       "      <th>25%</th>\n",
       "      <td>192.375000</td>\n",
       "      <td>0.000000</td>\n",
       "      <td>0.000000</td>\n",
       "      <td>164.900000</td>\n",
       "      <td>0.000000</td>\n",
       "      <td>932.000000</td>\n",
       "      <td>730.950000</td>\n",
       "      <td>7.000000</td>\n",
       "      <td>23.710000</td>\n",
       "    </tr>\n",
       "    <tr>\n",
       "      <th>50%</th>\n",
       "      <td>272.900000</td>\n",
       "      <td>22.000000</td>\n",
       "      <td>0.000000</td>\n",
       "      <td>185.000000</td>\n",
       "      <td>6.400000</td>\n",
       "      <td>968.000000</td>\n",
       "      <td>779.500000</td>\n",
       "      <td>28.000000</td>\n",
       "      <td>34.445000</td>\n",
       "    </tr>\n",
       "    <tr>\n",
       "      <th>75%</th>\n",
       "      <td>350.000000</td>\n",
       "      <td>142.950000</td>\n",
       "      <td>118.300000</td>\n",
       "      <td>192.000000</td>\n",
       "      <td>10.200000</td>\n",
       "      <td>1029.400000</td>\n",
       "      <td>824.000000</td>\n",
       "      <td>56.000000</td>\n",
       "      <td>46.135000</td>\n",
       "    </tr>\n",
       "    <tr>\n",
       "      <th>max</th>\n",
       "      <td>540.000000</td>\n",
       "      <td>359.400000</td>\n",
       "      <td>200.100000</td>\n",
       "      <td>247.000000</td>\n",
       "      <td>32.200000</td>\n",
       "      <td>1145.000000</td>\n",
       "      <td>992.600000</td>\n",
       "      <td>365.000000</td>\n",
       "      <td>82.600000</td>\n",
       "    </tr>\n",
       "  </tbody>\n",
       "</table>\n",
       "</div>"
      ],
      "text/plain": [
       "            Cement  Blast Furnace Slag      Fly Ash        Water  \\\n",
       "count  1030.000000         1030.000000  1030.000000  1030.000000   \n",
       "mean    281.167864           73.895825    54.188350   181.567282   \n",
       "std     104.506364           86.279342    63.997004    21.354219   \n",
       "min     102.000000            0.000000     0.000000   121.800000   \n",
       "25%     192.375000            0.000000     0.000000   164.900000   \n",
       "50%     272.900000           22.000000     0.000000   185.000000   \n",
       "75%     350.000000          142.950000   118.300000   192.000000   \n",
       "max     540.000000          359.400000   200.100000   247.000000   \n",
       "\n",
       "       Superplasticizer  Coarse Aggregate  Fine Aggregate          Age  \\\n",
       "count       1030.000000       1030.000000     1030.000000  1030.000000   \n",
       "mean           6.204660        972.918932      773.580485    45.662136   \n",
       "std            5.973841         77.753954       80.175980    63.169912   \n",
       "min            0.000000        801.000000      594.000000     1.000000   \n",
       "25%            0.000000        932.000000      730.950000     7.000000   \n",
       "50%            6.400000        968.000000      779.500000    28.000000   \n",
       "75%           10.200000       1029.400000      824.000000    56.000000   \n",
       "max           32.200000       1145.000000      992.600000   365.000000   \n",
       "\n",
       "          Strength  \n",
       "count  1030.000000  \n",
       "mean     35.817961  \n",
       "std      16.705742  \n",
       "min       2.330000  \n",
       "25%      23.710000  \n",
       "50%      34.445000  \n",
       "75%      46.135000  \n",
       "max      82.600000  "
      ]
     },
     "execution_count": 4,
     "metadata": {},
     "output_type": "execute_result"
    }
   ],
   "source": [
    "concrete_data.describe()"
   ]
  },
  {
   "cell_type": "code",
   "execution_count": 5,
   "id": "a80997e2-692c-4dbc-8816-d1e5efec027a",
   "metadata": {},
   "outputs": [
    {
     "data": {
      "text/plain": [
       "Cement                0\n",
       "Blast Furnace Slag    0\n",
       "Fly Ash               0\n",
       "Water                 0\n",
       "Superplasticizer      0\n",
       "Coarse Aggregate      0\n",
       "Fine Aggregate        0\n",
       "Age                   0\n",
       "Strength              0\n",
       "dtype: int64"
      ]
     },
     "execution_count": 5,
     "metadata": {},
     "output_type": "execute_result"
    }
   ],
   "source": [
    "concrete_data.isnull().sum()"
   ]
  },
  {
   "cell_type": "markdown",
   "id": "d56daa90-4b2e-4f00-98d1-27ee50962abd",
   "metadata": {},
   "source": [
    "The data looks very clean and is ready to be used to build our model.\n",
    "Lets separate our data into predictors (X) and target (Y)"
   ]
  },
  {
   "cell_type": "code",
   "execution_count": 6,
   "id": "2f4d24e1-865a-4fb1-8309-015ebf0b8c0e",
   "metadata": {},
   "outputs": [],
   "source": [
    "target = \"Strength\"\n",
    "X = concrete_data.copy()\n",
    "Y = X.pop(target)"
   ]
  },
  {
   "cell_type": "code",
   "execution_count": 7,
   "id": "c9c0a039-e2d4-4fc6-820d-63f368333ce0",
   "metadata": {},
   "outputs": [
    {
     "data": {
      "text/html": [
       "<div>\n",
       "<style scoped>\n",
       "    .dataframe tbody tr th:only-of-type {\n",
       "        vertical-align: middle;\n",
       "    }\n",
       "\n",
       "    .dataframe tbody tr th {\n",
       "        vertical-align: top;\n",
       "    }\n",
       "\n",
       "    .dataframe thead th {\n",
       "        text-align: right;\n",
       "    }\n",
       "</style>\n",
       "<table border=\"1\" class=\"dataframe\">\n",
       "  <thead>\n",
       "    <tr style=\"text-align: right;\">\n",
       "      <th></th>\n",
       "      <th>Cement</th>\n",
       "      <th>Blast Furnace Slag</th>\n",
       "      <th>Fly Ash</th>\n",
       "      <th>Water</th>\n",
       "      <th>Superplasticizer</th>\n",
       "      <th>Coarse Aggregate</th>\n",
       "      <th>Fine Aggregate</th>\n",
       "      <th>Age</th>\n",
       "    </tr>\n",
       "  </thead>\n",
       "  <tbody>\n",
       "    <tr>\n",
       "      <th>0</th>\n",
       "      <td>540.0</td>\n",
       "      <td>0.0</td>\n",
       "      <td>0.0</td>\n",
       "      <td>162.0</td>\n",
       "      <td>2.5</td>\n",
       "      <td>1040.0</td>\n",
       "      <td>676.0</td>\n",
       "      <td>28</td>\n",
       "    </tr>\n",
       "    <tr>\n",
       "      <th>1</th>\n",
       "      <td>540.0</td>\n",
       "      <td>0.0</td>\n",
       "      <td>0.0</td>\n",
       "      <td>162.0</td>\n",
       "      <td>2.5</td>\n",
       "      <td>1055.0</td>\n",
       "      <td>676.0</td>\n",
       "      <td>28</td>\n",
       "    </tr>\n",
       "    <tr>\n",
       "      <th>2</th>\n",
       "      <td>332.5</td>\n",
       "      <td>142.5</td>\n",
       "      <td>0.0</td>\n",
       "      <td>228.0</td>\n",
       "      <td>0.0</td>\n",
       "      <td>932.0</td>\n",
       "      <td>594.0</td>\n",
       "      <td>270</td>\n",
       "    </tr>\n",
       "    <tr>\n",
       "      <th>3</th>\n",
       "      <td>332.5</td>\n",
       "      <td>142.5</td>\n",
       "      <td>0.0</td>\n",
       "      <td>228.0</td>\n",
       "      <td>0.0</td>\n",
       "      <td>932.0</td>\n",
       "      <td>594.0</td>\n",
       "      <td>365</td>\n",
       "    </tr>\n",
       "    <tr>\n",
       "      <th>4</th>\n",
       "      <td>198.6</td>\n",
       "      <td>132.4</td>\n",
       "      <td>0.0</td>\n",
       "      <td>192.0</td>\n",
       "      <td>0.0</td>\n",
       "      <td>978.4</td>\n",
       "      <td>825.5</td>\n",
       "      <td>360</td>\n",
       "    </tr>\n",
       "  </tbody>\n",
       "</table>\n",
       "</div>"
      ],
      "text/plain": [
       "   Cement  Blast Furnace Slag  Fly Ash  Water  Superplasticizer  \\\n",
       "0   540.0                 0.0      0.0  162.0               2.5   \n",
       "1   540.0                 0.0      0.0  162.0               2.5   \n",
       "2   332.5               142.5      0.0  228.0               0.0   \n",
       "3   332.5               142.5      0.0  228.0               0.0   \n",
       "4   198.6               132.4      0.0  192.0               0.0   \n",
       "\n",
       "   Coarse Aggregate  Fine Aggregate  Age  \n",
       "0            1040.0           676.0   28  \n",
       "1            1055.0           676.0   28  \n",
       "2             932.0           594.0  270  \n",
       "3             932.0           594.0  365  \n",
       "4             978.4           825.5  360  "
      ]
     },
     "execution_count": 7,
     "metadata": {},
     "output_type": "execute_result"
    }
   ],
   "source": [
    "X.head()"
   ]
  },
  {
   "cell_type": "code",
   "execution_count": 8,
   "id": "d16e66ed-cb2a-4392-8fa7-539aff83c017",
   "metadata": {},
   "outputs": [
    {
     "data": {
      "text/plain": [
       "0    79.99\n",
       "1    61.89\n",
       "2    40.27\n",
       "3    41.05\n",
       "4    44.30\n",
       "Name: Strength, dtype: float64"
      ]
     },
     "execution_count": 8,
     "metadata": {},
     "output_type": "execute_result"
    }
   ],
   "source": [
    "Y.head()"
   ]
  },
  {
   "cell_type": "code",
   "execution_count": 16,
   "id": "5768b735-0936-40c8-a397-30d8a1968640",
   "metadata": {},
   "outputs": [],
   "source": [
    "# number of predictors\n",
    "n_cols      = X.shape[1]\n",
    "input_shape = (n_cols,)"
   ]
  },
  {
   "cell_type": "markdown",
   "id": "b2d5be59-3f21-4c16-9f51-a5a05142c1d6",
   "metadata": {},
   "source": [
    "# Part A: Build a baseline model (5 marks)\n",
    "\n",
    "Use the Keras library to build a neural network with the following:\n",
    "  * One hidden layer of 10 nodes, and a ReLU activation function\n",
    "  * Use the adam optimizer and the mean squared error as the loss function.\n",
    "\n",
    "### 1. Randomly split the data into a training and test sets by holding 30% of the data for testing. You can use the train_test_split helper function from Scikit-learn."
   ]
  },
  {
   "cell_type": "code",
   "execution_count": 12,
   "id": "f0e1d17c-8ca0-42be-8426-74b8b625e49c",
   "metadata": {},
   "outputs": [],
   "source": [
    "from tensorflow import keras as K\n",
    "from tensorflow.keras.models import Sequential\n",
    "from tensorflow.keras.layers import Dense"
   ]
  },
  {
   "cell_type": "code",
   "execution_count": 13,
   "id": "79db47b0-8648-4b01-8cd4-24e8f83edee8",
   "metadata": {},
   "outputs": [],
   "source": [
    "# Import the train_test_split of scikit-learn\n",
    "from sklearn.model_selection import train_test_split"
   ]
  },
  {
   "cell_type": "markdown",
   "id": "da074390-ed80-4fa9-85df-6a5b029734d5",
   "metadata": {},
   "source": [
    "Splitting the data into a training and test sets by holding 30% of the data for testing"
   ]
  },
  {
   "cell_type": "code",
   "execution_count": 17,
   "id": "a7773555-c944-481b-a49e-e338f9508106",
   "metadata": {},
   "outputs": [],
   "source": [
    "X_train, X_test, y_train, y_test = train_test_split(X,Y, test_size=0.3, random_state=42)"
   ]
  },
  {
   "cell_type": "code",
   "execution_count": 18,
   "id": "ce4c52b3-04a0-416b-9832-1987faab4d98",
   "metadata": {},
   "outputs": [],
   "source": [
    "# define regression model\n",
    "def regression_model():\n",
    "    # create model\n",
    "    model = Sequential()\n",
    "    model.add(Dense(10, activation='relu', input_shape=(n_cols,)))\n",
    "    model.add(Dense(1))\n",
    "    \n",
    "    # compile model\n",
    "    model.compile(optimizer='adam', loss='mean_squared_error')\n",
    "    return model"
   ]
  },
  {
   "cell_type": "markdown",
   "id": "e5d66ffd-e9c1-4c80-8c0d-fd258330ffd5",
   "metadata": {},
   "source": [
    "### 2. Train the model on the training data using 50 epochs.\n",
    "\n",
    "Let's call the function now to create our model.\n"
   ]
  },
  {
   "cell_type": "code",
   "execution_count": 20,
   "id": "c4a940e4-f9cd-4d43-b24d-11ef7cc14d44",
   "metadata": {},
   "outputs": [],
   "source": [
    "model = regression_model()"
   ]
  },
  {
   "cell_type": "markdown",
   "id": "7c80a7c1-acf1-4cc3-8f7a-2ba61cf480ab",
   "metadata": {},
   "source": [
    "Next, we will train the model for 50 epochs."
   ]
  },
  {
   "cell_type": "code",
   "execution_count": 21,
   "id": "b69edd90-2b3f-451d-acf4-14d729dcfcf8",
   "metadata": {},
   "outputs": [
    {
     "name": "stdout",
     "output_type": "stream",
     "text": [
      "Epoch 1/50\n",
      "23/23 [==============================] - 1s 2ms/step - loss: 139101.9219\n",
      "Epoch 2/50\n",
      "23/23 [==============================] - 0s 1ms/step - loss: 36975.7148\n",
      "Epoch 3/50\n",
      "23/23 [==============================] - 0s 2ms/step - loss: 10132.4121\n",
      "Epoch 4/50\n",
      "23/23 [==============================] - 0s 2ms/step - loss: 7482.3120\n",
      "Epoch 5/50\n",
      "23/23 [==============================] - 0s 2ms/step - loss: 6689.1665\n",
      "Epoch 6/50\n",
      "23/23 [==============================] - 0s 2ms/step - loss: 5935.7041\n",
      "Epoch 7/50\n",
      "23/23 [==============================] - 0s 2ms/step - loss: 5250.9619\n",
      "Epoch 8/50\n",
      "23/23 [==============================] - 0s 2ms/step - loss: 4616.9219\n",
      "Epoch 9/50\n",
      "23/23 [==============================] - 0s 1ms/step - loss: 4032.8413\n",
      "Epoch 10/50\n",
      "23/23 [==============================] - 0s 1ms/step - loss: 3517.7944\n",
      "Epoch 11/50\n",
      "23/23 [==============================] - 0s 2ms/step - loss: 3045.6260\n",
      "Epoch 12/50\n",
      "23/23 [==============================] - 0s 1ms/step - loss: 2633.9856\n",
      "Epoch 13/50\n",
      "23/23 [==============================] - 0s 1ms/step - loss: 2268.5481\n",
      "Epoch 14/50\n",
      "23/23 [==============================] - 0s 2ms/step - loss: 1953.8029\n",
      "Epoch 15/50\n",
      "23/23 [==============================] - 0s 2ms/step - loss: 1674.7125\n",
      "Epoch 16/50\n",
      "23/23 [==============================] - 0s 2ms/step - loss: 1433.9510\n",
      "Epoch 17/50\n",
      "23/23 [==============================] - 0s 1ms/step - loss: 1228.0083\n",
      "Epoch 18/50\n",
      "23/23 [==============================] - 0s 2ms/step - loss: 1053.5271\n",
      "Epoch 19/50\n",
      "23/23 [==============================] - 0s 1ms/step - loss: 902.8163\n",
      "Epoch 20/50\n",
      "23/23 [==============================] - 0s 1ms/step - loss: 777.3995\n",
      "Epoch 21/50\n",
      "23/23 [==============================] - 0s 2ms/step - loss: 674.9551\n",
      "Epoch 22/50\n",
      "23/23 [==============================] - 0s 1ms/step - loss: 592.3787\n",
      "Epoch 23/50\n",
      "23/23 [==============================] - 0s 2ms/step - loss: 521.3611\n",
      "Epoch 24/50\n",
      "23/23 [==============================] - 0s 2ms/step - loss: 463.3100\n",
      "Epoch 25/50\n",
      "23/23 [==============================] - 0s 2ms/step - loss: 417.0413\n",
      "Epoch 26/50\n",
      "23/23 [==============================] - 0s 2ms/step - loss: 378.3157\n",
      "Epoch 27/50\n",
      "23/23 [==============================] - 0s 2ms/step - loss: 349.0651\n",
      "Epoch 28/50\n",
      "23/23 [==============================] - 0s 2ms/step - loss: 323.7778\n",
      "Epoch 29/50\n",
      "23/23 [==============================] - 0s 2ms/step - loss: 304.2357\n",
      "Epoch 30/50\n",
      "23/23 [==============================] - 0s 2ms/step - loss: 288.1836\n",
      "Epoch 31/50\n",
      "23/23 [==============================] - 0s 2ms/step - loss: 274.4154\n",
      "Epoch 32/50\n",
      "23/23 [==============================] - 0s 2ms/step - loss: 263.2335\n",
      "Epoch 33/50\n",
      "23/23 [==============================] - 0s 2ms/step - loss: 254.5043\n",
      "Epoch 34/50\n",
      "23/23 [==============================] - 0s 2ms/step - loss: 246.8713\n",
      "Epoch 35/50\n",
      "23/23 [==============================] - 0s 3ms/step - loss: 240.5578\n",
      "Epoch 36/50\n",
      "23/23 [==============================] - 0s 5ms/step - loss: 234.1525\n",
      "Epoch 37/50\n",
      "23/23 [==============================] - 0s 8ms/step - loss: 229.5042\n",
      "Epoch 38/50\n",
      "23/23 [==============================] - 0s 1ms/step - loss: 225.4026\n",
      "Epoch 39/50\n",
      "23/23 [==============================] - 0s 2ms/step - loss: 221.2740\n",
      "Epoch 40/50\n",
      "23/23 [==============================] - 0s 2ms/step - loss: 218.9696\n",
      "Epoch 41/50\n",
      "23/23 [==============================] - 0s 2ms/step - loss: 214.9857\n",
      "Epoch 42/50\n",
      "23/23 [==============================] - 0s 2ms/step - loss: 210.2359\n",
      "Epoch 43/50\n",
      "23/23 [==============================] - 0s 2ms/step - loss: 206.6212\n",
      "Epoch 44/50\n",
      "23/23 [==============================] - 0s 2ms/step - loss: 204.0893\n",
      "Epoch 45/50\n",
      "23/23 [==============================] - 0s 4ms/step - loss: 201.7470\n",
      "Epoch 46/50\n",
      "23/23 [==============================] - 0s 2ms/step - loss: 197.5779\n",
      "Epoch 47/50\n",
      "23/23 [==============================] - 0s 2ms/step - loss: 195.5417\n",
      "Epoch 48/50\n",
      "23/23 [==============================] - 0s 2ms/step - loss: 191.7993\n",
      "Epoch 49/50\n",
      "23/23 [==============================] - 0s 2ms/step - loss: 189.5322\n",
      "Epoch 50/50\n",
      "23/23 [==============================] - 0s 2ms/step - loss: 186.9808\n"
     ]
    },
    {
     "data": {
      "text/plain": [
       "<keras.src.callbacks.History at 0x15c5f94d0>"
      ]
     },
     "execution_count": 21,
     "metadata": {},
     "output_type": "execute_result"
    }
   ],
   "source": [
    "# fit the model\n",
    "epochs = 50\n",
    "model.fit(X_train, y_train, epochs=epochs, verbose=1)"
   ]
  },
  {
   "cell_type": "markdown",
   "id": "087124a5-89c1-4398-aa36-04ffeae14e70",
   "metadata": {},
   "source": [
    "### 3. Evaluate the model on the test data and compute the mean squared error between the predicted concrete strength and the actual concrete strength. You can use the mean_squared_error function from Scikit-learn."
   ]
  },
  {
   "cell_type": "code",
   "execution_count": 22,
   "id": "0f60be73-dc2d-4331-8baa-171cdc700614",
   "metadata": {},
   "outputs": [
    {
     "name": "stdout",
     "output_type": "stream",
     "text": [
      "10/10 [==============================] - 0s 2ms/step - loss: 180.6669\n",
      "10/10 [==============================] - 0s 1ms/step\n"
     ]
    },
    {
     "data": {
      "text/plain": [
       "180.6668701171875"
      ]
     },
     "execution_count": 22,
     "metadata": {},
     "output_type": "execute_result"
    }
   ],
   "source": [
    "loss_val = model.evaluate(X_test, y_test)\n",
    "y_pred = model.predict(X_test)\n",
    "loss_val"
   ]
  },
  {
   "cell_type": "markdown",
   "id": "85861dc6-1103-4671-aeda-cf9a412e783b",
   "metadata": {},
   "source": [
    "Now we need to compute the mean squared error between the predicted concrete strength and the actual concrete strength."
   ]
  },
  {
   "cell_type": "code",
   "execution_count": 23,
   "id": "1c24e28d-b526-44c8-b2de-3e5216e71d09",
   "metadata": {},
   "outputs": [],
   "source": [
    "from sklearn.metrics import mean_squared_error"
   ]
  },
  {
   "cell_type": "code",
   "execution_count": 24,
   "id": "609418fc-4769-4fe0-9e92-2e355282f2d8",
   "metadata": {},
   "outputs": [
    {
     "name": "stdout",
     "output_type": "stream",
     "text": [
      "180.66686743242903 0.0\n"
     ]
    }
   ],
   "source": [
    "mean_square_error = mean_squared_error(y_test, y_pred)\n",
    "mean = np.mean(mean_square_error)\n",
    "standard_deviation = np.std(mean_square_error)\n",
    "print(mean, standard_deviation)"
   ]
  },
  {
   "cell_type": "markdown",
   "id": "c3c01887-7ccc-405c-8978-bb0d932638d9",
   "metadata": {},
   "source": [
    "### 4. Repeat steps 1 - 3, 50 times, i.e., create a list of 50 mean squared errors.\n",
    "### 5. Report the mean and the standard deviation of the mean squared errors.\n",
    "\n",
    "Create a list of 50 mean squared errors and report mean and the standard deviation of the mean squared errors."
   ]
  },
  {
   "cell_type": "code",
   "execution_count": 26,
   "id": "2eb22512-b91d-40c0-b6bf-42e43afd7041",
   "metadata": {},
   "outputs": [
    {
     "name": "stdout",
     "output_type": "stream",
     "text": [
      "MSE 1: 55.415138244628906\n",
      "10/10 [==============================] - 0s 1ms/step\n",
      "MSE 2: 63.74432373046875\n",
      "10/10 [==============================] - 0s 1ms/step\n",
      "MSE 3: 45.593570709228516\n",
      "10/10 [==============================] - 0s 1ms/step\n",
      "MSE 4: 49.47313690185547\n",
      "10/10 [==============================] - 0s 1ms/step\n",
      "MSE 5: 54.39697265625\n",
      "10/10 [==============================] - 0s 960us/step\n",
      "MSE 6: 59.10958480834961\n",
      "10/10 [==============================] - 0s 1ms/step\n",
      "MSE 7: 57.68770217895508\n",
      "10/10 [==============================] - 0s 887us/step\n",
      "MSE 8: 48.96474075317383\n",
      "10/10 [==============================] - 0s 960us/step\n",
      "MSE 9: 58.00017547607422\n",
      "10/10 [==============================] - 0s 1ms/step\n",
      "MSE 10: 52.387359619140625\n",
      "10/10 [==============================] - 0s 1ms/step\n",
      "MSE 11: 49.7962760925293\n",
      "10/10 [==============================] - 0s 892us/step\n",
      "MSE 12: 46.497093200683594\n",
      "10/10 [==============================] - 0s 875us/step\n",
      "MSE 13: 55.892578125\n",
      "10/10 [==============================] - 0s 888us/step\n",
      "MSE 14: 53.017181396484375\n",
      "10/10 [==============================] - 0s 908us/step\n",
      "MSE 15: 69.76153564453125\n",
      "10/10 [==============================] - 0s 919us/step\n",
      "MSE 16: 48.680545806884766\n",
      "10/10 [==============================] - 0s 2ms/step\n",
      "MSE 17: 49.34632110595703\n",
      "10/10 [==============================] - 0s 912us/step\n",
      "MSE 18: 51.46067428588867\n",
      "10/10 [==============================] - 0s 1ms/step\n",
      "MSE 19: 45.447444915771484\n",
      "10/10 [==============================] - 0s 934us/step\n",
      "MSE 20: 48.83552169799805\n",
      "10/10 [==============================] - 0s 1ms/step\n",
      "MSE 21: 56.68369674682617\n",
      "10/10 [==============================] - 0s 1ms/step\n",
      "MSE 22: 49.38626480102539\n",
      "10/10 [==============================] - 0s 938us/step\n",
      "MSE 23: 45.52006912231445\n",
      "10/10 [==============================] - 0s 969us/step\n",
      "MSE 24: 46.07704544067383\n",
      "10/10 [==============================] - 0s 1ms/step\n",
      "MSE 25: 49.18730545043945\n",
      "10/10 [==============================] - 0s 924us/step\n",
      "MSE 26: 50.814483642578125\n",
      "10/10 [==============================] - 0s 990us/step\n",
      "MSE 27: 50.285606384277344\n",
      "10/10 [==============================] - 0s 909us/step\n",
      "MSE 28: 46.00787353515625\n",
      "10/10 [==============================] - 0s 975us/step\n",
      "MSE 29: 54.217857360839844\n",
      "10/10 [==============================] - 0s 987us/step\n",
      "MSE 30: 57.11866760253906\n",
      "10/10 [==============================] - 0s 981us/step\n",
      "MSE 31: 60.77472686767578\n",
      "10/10 [==============================] - 0s 966us/step\n",
      "MSE 32: 43.52556610107422\n",
      "10/10 [==============================] - 0s 2ms/step\n",
      "MSE 33: 47.710208892822266\n",
      "10/10 [==============================] - 0s 1ms/step\n",
      "MSE 34: 53.06105422973633\n",
      "10/10 [==============================] - 0s 1ms/step\n",
      "MSE 35: 49.2592658996582\n",
      "10/10 [==============================] - 0s 1ms/step\n",
      "MSE 36: 55.439327239990234\n",
      "10/10 [==============================] - 0s 910us/step\n",
      "MSE 37: 52.56357955932617\n",
      "10/10 [==============================] - 0s 1ms/step\n",
      "MSE 38: 54.950279235839844\n",
      "10/10 [==============================] - 0s 944us/step\n",
      "MSE 39: 51.970523834228516\n",
      "10/10 [==============================] - 0s 7ms/step\n",
      "MSE 40: 55.937644958496094\n",
      "10/10 [==============================] - 0s 1ms/step\n",
      "MSE 41: 53.93418884277344\n",
      "10/10 [==============================] - 0s 990us/step\n",
      "MSE 42: 50.18239212036133\n",
      "10/10 [==============================] - 0s 1ms/step\n",
      "MSE 43: 48.628787994384766\n",
      "10/10 [==============================] - 0s 915us/step\n",
      "MSE 44: 53.6431770324707\n",
      "10/10 [==============================] - 0s 1ms/step\n",
      "MSE 45: 54.98865509033203\n",
      "10/10 [==============================] - 0s 1ms/step\n",
      "MSE 46: 54.96601486206055\n",
      "10/10 [==============================] - 0s 915us/step\n",
      "MSE 47: 53.094566345214844\n",
      "10/10 [==============================] - 0s 1ms/step\n",
      "MSE 48: 55.520957946777344\n",
      "10/10 [==============================] - 0s 2ms/step\n",
      "MSE 49: 57.13834762573242\n",
      "10/10 [==============================] - 0s 1ms/step\n",
      "MSE 50: 53.6484375\n",
      "10/10 [==============================] - 0s 917us/step\n",
      "\n",
      "\n",
      "This is the mean and standard deviation of 50 mean squared errors without normalized data. Total number of epochs for each training is: 50\n",
      "\n",
      "Mean: 52.59488798599899\n",
      "Standard Deviation: 4.960471361486136\n"
     ]
    }
   ],
   "source": [
    "total_mean_squared_errors = 50\n",
    "epochs = 50\n",
    "mean_squared_errors = []\n",
    "for i in range(0, total_mean_squared_errors):\n",
    "    X_train, X_test, y_train, y_test = train_test_split(X,Y, test_size=0.3, random_state=i)\n",
    "    model.fit(X_train, y_train, epochs=epochs, verbose=0)\n",
    "    MSE = model.evaluate(X_test, y_test, verbose=0)\n",
    "    print(\"MSE \"+str(i+1)+\": \"+str(MSE))\n",
    "    y_pred = model.predict(X_test)\n",
    "    mean_square_error = mean_squared_error(y_test, y_pred)\n",
    "    mean_squared_errors.append(mean_square_error)\n",
    "\n",
    "mean_squared_errors = np.array(mean_squared_errors)\n",
    "mean = np.mean(mean_squared_errors)\n",
    "standard_deviation = np.std(mean_squared_errors)\n",
    "\n",
    "print('\\n')\n",
    "print(\"This is the mean and standard deviation of \" +str(total_mean_squared_errors) + \" mean squared errors without normalized data. Total number of epochs for each training is: \" +str(epochs) + \"\\n\")\n",
    "print(\"Mean: \"+str(mean))\n",
    "print(\"Standard Deviation: \"+str(standard_deviation))"
   ]
  }
 ],
 "metadata": {
  "kernelspec": {
   "display_name": "Python 3 (ipykernel)",
   "language": "python",
   "name": "python3"
  },
  "language_info": {
   "codemirror_mode": {
    "name": "ipython",
    "version": 3
   },
   "file_extension": ".py",
   "mimetype": "text/x-python",
   "name": "python",
   "nbconvert_exporter": "python",
   "pygments_lexer": "ipython3",
   "version": "3.11.5"
  }
 },
 "nbformat": 4,
 "nbformat_minor": 5
}
