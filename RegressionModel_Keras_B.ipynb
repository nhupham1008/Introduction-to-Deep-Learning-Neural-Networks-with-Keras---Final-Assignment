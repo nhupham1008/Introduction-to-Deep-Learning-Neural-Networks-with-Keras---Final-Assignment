{
 "cells": [
  {
   "cell_type": "markdown",
   "id": "23cd050f-7716-4358-b249-c985739ae9e6",
   "metadata": {},
   "source": [
    "## Download and Clean Dataset\n",
    "Let's start by importing the <em>pandas</em> and the Numpy libraries."
   ]
  },
  {
   "cell_type": "code",
   "execution_count": 2,
   "id": "0a0ec527-5ba0-4275-9ecb-c0347114ddcc",
   "metadata": {},
   "outputs": [],
   "source": [
    "import pandas as pd\n",
    "import numpy as np"
   ]
  },
  {
   "cell_type": "markdown",
   "id": "9af36ae9-02f0-45e3-bf9e-99cc9280d32a",
   "metadata": {},
   "source": [
    "We will be using the dataset provided in the assignment\n",
    "\n",
    "<strong>The dataset is about the compressive strength of different samples of concrete based on the volumes of the different ingredients that were used to make them. Ingredients include:</strong>\n",
    "\n",
    "<strong>1. Cement</strong>\n",
    "\n",
    "<strong>2. Blast Furnace Slag</strong>\n",
    "\n",
    "<strong>3. Fly Ash</strong>\n",
    "\n",
    "<strong>4. Water</strong>\n",
    "\n",
    "<strong>5. Superplasticizer</strong>\n",
    "\n",
    "<strong>6. Coarse Aggregate</strong>\n",
    "\n",
    "<strong>7. Fine Aggregate</strong>\n",
    "\n",
    "Let's download and read the dataset into a <em>pandas</em> dataframe."
   ]
  },
  {
   "cell_type": "code",
   "execution_count": 3,
   "id": "f1707795-58ed-4cd0-9098-7deebe4e0f4f",
   "metadata": {},
   "outputs": [
    {
     "data": {
      "text/html": [
       "<div>\n",
       "<style scoped>\n",
       "    .dataframe tbody tr th:only-of-type {\n",
       "        vertical-align: middle;\n",
       "    }\n",
       "\n",
       "    .dataframe tbody tr th {\n",
       "        vertical-align: top;\n",
       "    }\n",
       "\n",
       "    .dataframe thead th {\n",
       "        text-align: right;\n",
       "    }\n",
       "</style>\n",
       "<table border=\"1\" class=\"dataframe\">\n",
       "  <thead>\n",
       "    <tr style=\"text-align: right;\">\n",
       "      <th></th>\n",
       "      <th>Cement</th>\n",
       "      <th>Blast Furnace Slag</th>\n",
       "      <th>Fly Ash</th>\n",
       "      <th>Water</th>\n",
       "      <th>Superplasticizer</th>\n",
       "      <th>Coarse Aggregate</th>\n",
       "      <th>Fine Aggregate</th>\n",
       "      <th>Age</th>\n",
       "      <th>Strength</th>\n",
       "    </tr>\n",
       "  </thead>\n",
       "  <tbody>\n",
       "    <tr>\n",
       "      <th>0</th>\n",
       "      <td>540.0</td>\n",
       "      <td>0.0</td>\n",
       "      <td>0.0</td>\n",
       "      <td>162.0</td>\n",
       "      <td>2.5</td>\n",
       "      <td>1040.0</td>\n",
       "      <td>676.0</td>\n",
       "      <td>28</td>\n",
       "      <td>79.99</td>\n",
       "    </tr>\n",
       "    <tr>\n",
       "      <th>1</th>\n",
       "      <td>540.0</td>\n",
       "      <td>0.0</td>\n",
       "      <td>0.0</td>\n",
       "      <td>162.0</td>\n",
       "      <td>2.5</td>\n",
       "      <td>1055.0</td>\n",
       "      <td>676.0</td>\n",
       "      <td>28</td>\n",
       "      <td>61.89</td>\n",
       "    </tr>\n",
       "    <tr>\n",
       "      <th>2</th>\n",
       "      <td>332.5</td>\n",
       "      <td>142.5</td>\n",
       "      <td>0.0</td>\n",
       "      <td>228.0</td>\n",
       "      <td>0.0</td>\n",
       "      <td>932.0</td>\n",
       "      <td>594.0</td>\n",
       "      <td>270</td>\n",
       "      <td>40.27</td>\n",
       "    </tr>\n",
       "    <tr>\n",
       "      <th>3</th>\n",
       "      <td>332.5</td>\n",
       "      <td>142.5</td>\n",
       "      <td>0.0</td>\n",
       "      <td>228.0</td>\n",
       "      <td>0.0</td>\n",
       "      <td>932.0</td>\n",
       "      <td>594.0</td>\n",
       "      <td>365</td>\n",
       "      <td>41.05</td>\n",
       "    </tr>\n",
       "    <tr>\n",
       "      <th>4</th>\n",
       "      <td>198.6</td>\n",
       "      <td>132.4</td>\n",
       "      <td>0.0</td>\n",
       "      <td>192.0</td>\n",
       "      <td>0.0</td>\n",
       "      <td>978.4</td>\n",
       "      <td>825.5</td>\n",
       "      <td>360</td>\n",
       "      <td>44.30</td>\n",
       "    </tr>\n",
       "  </tbody>\n",
       "</table>\n",
       "</div>"
      ],
      "text/plain": [
       "   Cement  Blast Furnace Slag  Fly Ash  Water  Superplasticizer  \\\n",
       "0   540.0                 0.0      0.0  162.0               2.5   \n",
       "1   540.0                 0.0      0.0  162.0               2.5   \n",
       "2   332.5               142.5      0.0  228.0               0.0   \n",
       "3   332.5               142.5      0.0  228.0               0.0   \n",
       "4   198.6               132.4      0.0  192.0               0.0   \n",
       "\n",
       "   Coarse Aggregate  Fine Aggregate  Age  Strength  \n",
       "0            1040.0           676.0   28     79.99  \n",
       "1            1055.0           676.0   28     61.89  \n",
       "2             932.0           594.0  270     40.27  \n",
       "3             932.0           594.0  365     41.05  \n",
       "4             978.4           825.5  360     44.30  "
      ]
     },
     "execution_count": 3,
     "metadata": {},
     "output_type": "execute_result"
    }
   ],
   "source": [
    "concrete_data = pd.read_csv('https://s3-api.us-geo.objectstorage.softlayer.net/cf-courses-data/CognitiveClass/DL0101EN/labs/data/concrete_data.csv')\n",
    "concrete_data.head()"
   ]
  },
  {
   "cell_type": "markdown",
   "id": "56257c65-9332-48c1-b487-bea51a5ee786",
   "metadata": {},
   "source": [
    "So the first concrete sample has 540 cubic meter of cement, 0 cubic meter of blast furnace slag, 0 cubic meter of fly ash, 162 cubic meter of water, 2.5 cubic meter of superplaticizer, 1040 cubic meter of coarse aggregate, 676 cubic meter of fine aggregate. Such a concrete mix which is 28 days old, has a compressive strength of 79.99 MPa. \n",
    "\n",
    "### Check how many data points we have."
   ]
  },
  {
   "cell_type": "code",
   "execution_count": 4,
   "id": "23a3f7a2-92d4-4a03-8dc6-cd18ef4e73b3",
   "metadata": {},
   "outputs": [
    {
     "data": {
      "text/plain": [
       "(1030, 9)"
      ]
     },
     "execution_count": 4,
     "metadata": {},
     "output_type": "execute_result"
    }
   ],
   "source": [
    "concrete_data.shape"
   ]
  },
  {
   "cell_type": "markdown",
   "id": "f1dcd821-e289-449e-a748-27ee89602520",
   "metadata": {},
   "source": [
    "So, there are approximately 1000 samples to train our model on. Because of the few samples, we have to be careful not to overfit the training data.\n",
    "Let's check the dataset for any missing values."
   ]
  },
  {
   "cell_type": "code",
   "execution_count": 5,
   "id": "564203ac-08b0-4f3c-a37a-2056cc01a955",
   "metadata": {},
   "outputs": [
    {
     "data": {
      "text/html": [
       "<div>\n",
       "<style scoped>\n",
       "    .dataframe tbody tr th:only-of-type {\n",
       "        vertical-align: middle;\n",
       "    }\n",
       "\n",
       "    .dataframe tbody tr th {\n",
       "        vertical-align: top;\n",
       "    }\n",
       "\n",
       "    .dataframe thead th {\n",
       "        text-align: right;\n",
       "    }\n",
       "</style>\n",
       "<table border=\"1\" class=\"dataframe\">\n",
       "  <thead>\n",
       "    <tr style=\"text-align: right;\">\n",
       "      <th></th>\n",
       "      <th>Cement</th>\n",
       "      <th>Blast Furnace Slag</th>\n",
       "      <th>Fly Ash</th>\n",
       "      <th>Water</th>\n",
       "      <th>Superplasticizer</th>\n",
       "      <th>Coarse Aggregate</th>\n",
       "      <th>Fine Aggregate</th>\n",
       "      <th>Age</th>\n",
       "      <th>Strength</th>\n",
       "    </tr>\n",
       "  </thead>\n",
       "  <tbody>\n",
       "    <tr>\n",
       "      <th>count</th>\n",
       "      <td>1030.000000</td>\n",
       "      <td>1030.000000</td>\n",
       "      <td>1030.000000</td>\n",
       "      <td>1030.000000</td>\n",
       "      <td>1030.000000</td>\n",
       "      <td>1030.000000</td>\n",
       "      <td>1030.000000</td>\n",
       "      <td>1030.000000</td>\n",
       "      <td>1030.000000</td>\n",
       "    </tr>\n",
       "    <tr>\n",
       "      <th>mean</th>\n",
       "      <td>281.167864</td>\n",
       "      <td>73.895825</td>\n",
       "      <td>54.188350</td>\n",
       "      <td>181.567282</td>\n",
       "      <td>6.204660</td>\n",
       "      <td>972.918932</td>\n",
       "      <td>773.580485</td>\n",
       "      <td>45.662136</td>\n",
       "      <td>35.817961</td>\n",
       "    </tr>\n",
       "    <tr>\n",
       "      <th>std</th>\n",
       "      <td>104.506364</td>\n",
       "      <td>86.279342</td>\n",
       "      <td>63.997004</td>\n",
       "      <td>21.354219</td>\n",
       "      <td>5.973841</td>\n",
       "      <td>77.753954</td>\n",
       "      <td>80.175980</td>\n",
       "      <td>63.169912</td>\n",
       "      <td>16.705742</td>\n",
       "    </tr>\n",
       "    <tr>\n",
       "      <th>min</th>\n",
       "      <td>102.000000</td>\n",
       "      <td>0.000000</td>\n",
       "      <td>0.000000</td>\n",
       "      <td>121.800000</td>\n",
       "      <td>0.000000</td>\n",
       "      <td>801.000000</td>\n",
       "      <td>594.000000</td>\n",
       "      <td>1.000000</td>\n",
       "      <td>2.330000</td>\n",
       "    </tr>\n",
       "    <tr>\n",
       "      <th>25%</th>\n",
       "      <td>192.375000</td>\n",
       "      <td>0.000000</td>\n",
       "      <td>0.000000</td>\n",
       "      <td>164.900000</td>\n",
       "      <td>0.000000</td>\n",
       "      <td>932.000000</td>\n",
       "      <td>730.950000</td>\n",
       "      <td>7.000000</td>\n",
       "      <td>23.710000</td>\n",
       "    </tr>\n",
       "    <tr>\n",
       "      <th>50%</th>\n",
       "      <td>272.900000</td>\n",
       "      <td>22.000000</td>\n",
       "      <td>0.000000</td>\n",
       "      <td>185.000000</td>\n",
       "      <td>6.400000</td>\n",
       "      <td>968.000000</td>\n",
       "      <td>779.500000</td>\n",
       "      <td>28.000000</td>\n",
       "      <td>34.445000</td>\n",
       "    </tr>\n",
       "    <tr>\n",
       "      <th>75%</th>\n",
       "      <td>350.000000</td>\n",
       "      <td>142.950000</td>\n",
       "      <td>118.300000</td>\n",
       "      <td>192.000000</td>\n",
       "      <td>10.200000</td>\n",
       "      <td>1029.400000</td>\n",
       "      <td>824.000000</td>\n",
       "      <td>56.000000</td>\n",
       "      <td>46.135000</td>\n",
       "    </tr>\n",
       "    <tr>\n",
       "      <th>max</th>\n",
       "      <td>540.000000</td>\n",
       "      <td>359.400000</td>\n",
       "      <td>200.100000</td>\n",
       "      <td>247.000000</td>\n",
       "      <td>32.200000</td>\n",
       "      <td>1145.000000</td>\n",
       "      <td>992.600000</td>\n",
       "      <td>365.000000</td>\n",
       "      <td>82.600000</td>\n",
       "    </tr>\n",
       "  </tbody>\n",
       "</table>\n",
       "</div>"
      ],
      "text/plain": [
       "            Cement  Blast Furnace Slag      Fly Ash        Water  \\\n",
       "count  1030.000000         1030.000000  1030.000000  1030.000000   \n",
       "mean    281.167864           73.895825    54.188350   181.567282   \n",
       "std     104.506364           86.279342    63.997004    21.354219   \n",
       "min     102.000000            0.000000     0.000000   121.800000   \n",
       "25%     192.375000            0.000000     0.000000   164.900000   \n",
       "50%     272.900000           22.000000     0.000000   185.000000   \n",
       "75%     350.000000          142.950000   118.300000   192.000000   \n",
       "max     540.000000          359.400000   200.100000   247.000000   \n",
       "\n",
       "       Superplasticizer  Coarse Aggregate  Fine Aggregate          Age  \\\n",
       "count       1030.000000       1030.000000     1030.000000  1030.000000   \n",
       "mean           6.204660        972.918932      773.580485    45.662136   \n",
       "std            5.973841         77.753954       80.175980    63.169912   \n",
       "min            0.000000        801.000000      594.000000     1.000000   \n",
       "25%            0.000000        932.000000      730.950000     7.000000   \n",
       "50%            6.400000        968.000000      779.500000    28.000000   \n",
       "75%           10.200000       1029.400000      824.000000    56.000000   \n",
       "max           32.200000       1145.000000      992.600000   365.000000   \n",
       "\n",
       "          Strength  \n",
       "count  1030.000000  \n",
       "mean     35.817961  \n",
       "std      16.705742  \n",
       "min       2.330000  \n",
       "25%      23.710000  \n",
       "50%      34.445000  \n",
       "75%      46.135000  \n",
       "max      82.600000  "
      ]
     },
     "execution_count": 5,
     "metadata": {},
     "output_type": "execute_result"
    }
   ],
   "source": [
    "concrete_data.describe()"
   ]
  },
  {
   "cell_type": "code",
   "execution_count": 6,
   "id": "a80997e2-692c-4dbc-8816-d1e5efec027a",
   "metadata": {},
   "outputs": [
    {
     "data": {
      "text/plain": [
       "Cement                0\n",
       "Blast Furnace Slag    0\n",
       "Fly Ash               0\n",
       "Water                 0\n",
       "Superplasticizer      0\n",
       "Coarse Aggregate      0\n",
       "Fine Aggregate        0\n",
       "Age                   0\n",
       "Strength              0\n",
       "dtype: int64"
      ]
     },
     "execution_count": 6,
     "metadata": {},
     "output_type": "execute_result"
    }
   ],
   "source": [
    "concrete_data.isnull().sum()"
   ]
  },
  {
   "cell_type": "markdown",
   "id": "d56daa90-4b2e-4f00-98d1-27ee50962abd",
   "metadata": {},
   "source": [
    "The data looks very clean and is ready to be used to build our model.\n",
    "Lets separate our data into predictors (X) and target (Y)"
   ]
  },
  {
   "cell_type": "code",
   "execution_count": 7,
   "id": "2f4d24e1-865a-4fb1-8309-015ebf0b8c0e",
   "metadata": {},
   "outputs": [],
   "source": [
    "target = \"Strength\"\n",
    "X = concrete_data.copy()\n",
    "Y = X.pop(target)"
   ]
  },
  {
   "cell_type": "code",
   "execution_count": 8,
   "id": "c9c0a039-e2d4-4fc6-820d-63f368333ce0",
   "metadata": {},
   "outputs": [
    {
     "data": {
      "text/html": [
       "<div>\n",
       "<style scoped>\n",
       "    .dataframe tbody tr th:only-of-type {\n",
       "        vertical-align: middle;\n",
       "    }\n",
       "\n",
       "    .dataframe tbody tr th {\n",
       "        vertical-align: top;\n",
       "    }\n",
       "\n",
       "    .dataframe thead th {\n",
       "        text-align: right;\n",
       "    }\n",
       "</style>\n",
       "<table border=\"1\" class=\"dataframe\">\n",
       "  <thead>\n",
       "    <tr style=\"text-align: right;\">\n",
       "      <th></th>\n",
       "      <th>Cement</th>\n",
       "      <th>Blast Furnace Slag</th>\n",
       "      <th>Fly Ash</th>\n",
       "      <th>Water</th>\n",
       "      <th>Superplasticizer</th>\n",
       "      <th>Coarse Aggregate</th>\n",
       "      <th>Fine Aggregate</th>\n",
       "      <th>Age</th>\n",
       "    </tr>\n",
       "  </thead>\n",
       "  <tbody>\n",
       "    <tr>\n",
       "      <th>0</th>\n",
       "      <td>540.0</td>\n",
       "      <td>0.0</td>\n",
       "      <td>0.0</td>\n",
       "      <td>162.0</td>\n",
       "      <td>2.5</td>\n",
       "      <td>1040.0</td>\n",
       "      <td>676.0</td>\n",
       "      <td>28</td>\n",
       "    </tr>\n",
       "    <tr>\n",
       "      <th>1</th>\n",
       "      <td>540.0</td>\n",
       "      <td>0.0</td>\n",
       "      <td>0.0</td>\n",
       "      <td>162.0</td>\n",
       "      <td>2.5</td>\n",
       "      <td>1055.0</td>\n",
       "      <td>676.0</td>\n",
       "      <td>28</td>\n",
       "    </tr>\n",
       "    <tr>\n",
       "      <th>2</th>\n",
       "      <td>332.5</td>\n",
       "      <td>142.5</td>\n",
       "      <td>0.0</td>\n",
       "      <td>228.0</td>\n",
       "      <td>0.0</td>\n",
       "      <td>932.0</td>\n",
       "      <td>594.0</td>\n",
       "      <td>270</td>\n",
       "    </tr>\n",
       "    <tr>\n",
       "      <th>3</th>\n",
       "      <td>332.5</td>\n",
       "      <td>142.5</td>\n",
       "      <td>0.0</td>\n",
       "      <td>228.0</td>\n",
       "      <td>0.0</td>\n",
       "      <td>932.0</td>\n",
       "      <td>594.0</td>\n",
       "      <td>365</td>\n",
       "    </tr>\n",
       "    <tr>\n",
       "      <th>4</th>\n",
       "      <td>198.6</td>\n",
       "      <td>132.4</td>\n",
       "      <td>0.0</td>\n",
       "      <td>192.0</td>\n",
       "      <td>0.0</td>\n",
       "      <td>978.4</td>\n",
       "      <td>825.5</td>\n",
       "      <td>360</td>\n",
       "    </tr>\n",
       "  </tbody>\n",
       "</table>\n",
       "</div>"
      ],
      "text/plain": [
       "   Cement  Blast Furnace Slag  Fly Ash  Water  Superplasticizer  \\\n",
       "0   540.0                 0.0      0.0  162.0               2.5   \n",
       "1   540.0                 0.0      0.0  162.0               2.5   \n",
       "2   332.5               142.5      0.0  228.0               0.0   \n",
       "3   332.5               142.5      0.0  228.0               0.0   \n",
       "4   198.6               132.4      0.0  192.0               0.0   \n",
       "\n",
       "   Coarse Aggregate  Fine Aggregate  Age  \n",
       "0            1040.0           676.0   28  \n",
       "1            1055.0           676.0   28  \n",
       "2             932.0           594.0  270  \n",
       "3             932.0           594.0  365  \n",
       "4             978.4           825.5  360  "
      ]
     },
     "execution_count": 8,
     "metadata": {},
     "output_type": "execute_result"
    }
   ],
   "source": [
    "X.head()"
   ]
  },
  {
   "cell_type": "code",
   "execution_count": 9,
   "id": "d16e66ed-cb2a-4392-8fa7-539aff83c017",
   "metadata": {},
   "outputs": [
    {
     "data": {
      "text/plain": [
       "0    79.99\n",
       "1    61.89\n",
       "2    40.27\n",
       "3    41.05\n",
       "4    44.30\n",
       "Name: Strength, dtype: float64"
      ]
     },
     "execution_count": 9,
     "metadata": {},
     "output_type": "execute_result"
    }
   ],
   "source": [
    "Y.head()"
   ]
  },
  {
   "cell_type": "code",
   "execution_count": 10,
   "id": "16e4d457-8817-45d2-b6da-7adde5aff111",
   "metadata": {},
   "outputs": [
    {
     "data": {
      "text/html": [
       "<div>\n",
       "<style scoped>\n",
       "    .dataframe tbody tr th:only-of-type {\n",
       "        vertical-align: middle;\n",
       "    }\n",
       "\n",
       "    .dataframe tbody tr th {\n",
       "        vertical-align: top;\n",
       "    }\n",
       "\n",
       "    .dataframe thead th {\n",
       "        text-align: right;\n",
       "    }\n",
       "</style>\n",
       "<table border=\"1\" class=\"dataframe\">\n",
       "  <thead>\n",
       "    <tr style=\"text-align: right;\">\n",
       "      <th></th>\n",
       "      <th>Cement</th>\n",
       "      <th>Blast Furnace Slag</th>\n",
       "      <th>Fly Ash</th>\n",
       "      <th>Water</th>\n",
       "      <th>Superplasticizer</th>\n",
       "      <th>Coarse Aggregate</th>\n",
       "      <th>Fine Aggregate</th>\n",
       "      <th>Age</th>\n",
       "    </tr>\n",
       "  </thead>\n",
       "  <tbody>\n",
       "    <tr>\n",
       "      <th>0</th>\n",
       "      <td>2.476712</td>\n",
       "      <td>-0.856472</td>\n",
       "      <td>-0.846733</td>\n",
       "      <td>-0.916319</td>\n",
       "      <td>-0.620147</td>\n",
       "      <td>0.862735</td>\n",
       "      <td>-1.217079</td>\n",
       "      <td>-0.279597</td>\n",
       "    </tr>\n",
       "    <tr>\n",
       "      <th>1</th>\n",
       "      <td>2.476712</td>\n",
       "      <td>-0.856472</td>\n",
       "      <td>-0.846733</td>\n",
       "      <td>-0.916319</td>\n",
       "      <td>-0.620147</td>\n",
       "      <td>1.055651</td>\n",
       "      <td>-1.217079</td>\n",
       "      <td>-0.279597</td>\n",
       "    </tr>\n",
       "    <tr>\n",
       "      <th>2</th>\n",
       "      <td>0.491187</td>\n",
       "      <td>0.795140</td>\n",
       "      <td>-0.846733</td>\n",
       "      <td>2.174405</td>\n",
       "      <td>-1.038638</td>\n",
       "      <td>-0.526262</td>\n",
       "      <td>-2.239829</td>\n",
       "      <td>3.551340</td>\n",
       "    </tr>\n",
       "    <tr>\n",
       "      <th>3</th>\n",
       "      <td>0.491187</td>\n",
       "      <td>0.795140</td>\n",
       "      <td>-0.846733</td>\n",
       "      <td>2.174405</td>\n",
       "      <td>-1.038638</td>\n",
       "      <td>-0.526262</td>\n",
       "      <td>-2.239829</td>\n",
       "      <td>5.055221</td>\n",
       "    </tr>\n",
       "    <tr>\n",
       "      <th>4</th>\n",
       "      <td>-0.790075</td>\n",
       "      <td>0.678079</td>\n",
       "      <td>-0.846733</td>\n",
       "      <td>0.488555</td>\n",
       "      <td>-1.038638</td>\n",
       "      <td>0.070492</td>\n",
       "      <td>0.647569</td>\n",
       "      <td>4.976069</td>\n",
       "    </tr>\n",
       "  </tbody>\n",
       "</table>\n",
       "</div>"
      ],
      "text/plain": [
       "     Cement  Blast Furnace Slag   Fly Ash     Water  Superplasticizer  \\\n",
       "0  2.476712           -0.856472 -0.846733 -0.916319         -0.620147   \n",
       "1  2.476712           -0.856472 -0.846733 -0.916319         -0.620147   \n",
       "2  0.491187            0.795140 -0.846733  2.174405         -1.038638   \n",
       "3  0.491187            0.795140 -0.846733  2.174405         -1.038638   \n",
       "4 -0.790075            0.678079 -0.846733  0.488555         -1.038638   \n",
       "\n",
       "   Coarse Aggregate  Fine Aggregate       Age  \n",
       "0          0.862735       -1.217079 -0.279597  \n",
       "1          1.055651       -1.217079 -0.279597  \n",
       "2         -0.526262       -2.239829  3.551340  \n",
       "3         -0.526262       -2.239829  5.055221  \n",
       "4          0.070492        0.647569  4.976069  "
      ]
     },
     "execution_count": 10,
     "metadata": {},
     "output_type": "execute_result"
    }
   ],
   "source": [
    "X_norm = (X - X.mean()) / X.std()\n",
    "X_norm.head()"
   ]
  },
  {
   "cell_type": "code",
   "execution_count": 11,
   "id": "5768b735-0936-40c8-a397-30d8a1968640",
   "metadata": {},
   "outputs": [],
   "source": [
    "# number of predictors\n",
    "n_cols      = X.shape[1]\n",
    "input_shape = (n_cols,)"
   ]
  },
  {
   "cell_type": "markdown",
   "id": "b2d5be59-3f21-4c16-9f51-a5a05142c1d6",
   "metadata": {},
   "source": [
    "# Part B: Normalize the data (5 marks) \n",
    "\n",
    "Repeat Part A but use a normalized version of the data. Recall that one way to normalize the data is by subtracting the mean from the individual predictors and dividing by the standard deviation.\n",
    "\n",
    "### 1. Randomly split the data into a training and test sets by holding 30% of the data for testing. You can use the train_test_split helper function from Scikit-learn."
   ]
  },
  {
   "cell_type": "code",
   "execution_count": 12,
   "id": "f0e1d17c-8ca0-42be-8426-74b8b625e49c",
   "metadata": {},
   "outputs": [
    {
     "name": "stderr",
     "output_type": "stream",
     "text": [
      "2024-01-02 17:38:00.398352: I tensorflow/core/platform/cpu_feature_guard.cc:182] This TensorFlow binary is optimized to use available CPU instructions in performance-critical operations.\n",
      "To enable the following instructions: AVX2 FMA, in other operations, rebuild TensorFlow with the appropriate compiler flags.\n"
     ]
    }
   ],
   "source": [
    "from tensorflow import keras as K\n",
    "from tensorflow.keras.models import Sequential\n",
    "from tensorflow.keras.layers import Dense"
   ]
  },
  {
   "cell_type": "code",
   "execution_count": 13,
   "id": "79db47b0-8648-4b01-8cd4-24e8f83edee8",
   "metadata": {},
   "outputs": [],
   "source": [
    "# Import the train_test_split of scikit-learn\n",
    "from sklearn.model_selection import train_test_split"
   ]
  },
  {
   "cell_type": "markdown",
   "id": "da074390-ed80-4fa9-85df-6a5b029734d5",
   "metadata": {},
   "source": [
    "Splitting the data into a training and test sets by holding 30% of the data for testing"
   ]
  },
  {
   "cell_type": "code",
   "execution_count": 14,
   "id": "a7773555-c944-481b-a49e-e338f9508106",
   "metadata": {},
   "outputs": [],
   "source": [
    "X_train, X_test, y_train, y_test = train_test_split(X,Y, test_size=0.3, random_state=42)"
   ]
  },
  {
   "cell_type": "code",
   "execution_count": 15,
   "id": "ce4c52b3-04a0-416b-9832-1987faab4d98",
   "metadata": {},
   "outputs": [],
   "source": [
    "# define regression model\n",
    "def regression_model():\n",
    "    # create model\n",
    "    model = Sequential()\n",
    "    model.add(Dense(10, activation='relu', input_shape=(n_cols,)))\n",
    "    model.add(Dense(1))\n",
    "    \n",
    "    # compile model\n",
    "    model.compile(optimizer='adam', loss='mean_squared_error')\n",
    "    return model"
   ]
  },
  {
   "cell_type": "markdown",
   "id": "e5d66ffd-e9c1-4c80-8c0d-fd258330ffd5",
   "metadata": {},
   "source": [
    "### 2. Train the model on the training data using 50 epochs.\n",
    "\n",
    "Let's call the function now to create our model.\n"
   ]
  },
  {
   "cell_type": "code",
   "execution_count": 16,
   "id": "c4a940e4-f9cd-4d43-b24d-11ef7cc14d44",
   "metadata": {},
   "outputs": [],
   "source": [
    "model = regression_model()"
   ]
  },
  {
   "cell_type": "markdown",
   "id": "7c80a7c1-acf1-4cc3-8f7a-2ba61cf480ab",
   "metadata": {},
   "source": [
    "Next, we will train the model for 50 epochs."
   ]
  },
  {
   "cell_type": "code",
   "execution_count": 17,
   "id": "b69edd90-2b3f-451d-acf4-14d729dcfcf8",
   "metadata": {},
   "outputs": [
    {
     "name": "stdout",
     "output_type": "stream",
     "text": [
      "Epoch 1/50\n",
      "23/23 [==============================] - 1s 1ms/step - loss: 10160.5420\n",
      "Epoch 2/50\n",
      "23/23 [==============================] - 0s 1ms/step - loss: 2792.7512\n",
      "Epoch 3/50\n",
      "23/23 [==============================] - 0s 1ms/step - loss: 2307.3887\n",
      "Epoch 4/50\n",
      "23/23 [==============================] - 0s 1ms/step - loss: 2028.1954\n",
      "Epoch 5/50\n",
      "23/23 [==============================] - 0s 4ms/step - loss: 1757.3201\n",
      "Epoch 6/50\n",
      "23/23 [==============================] - 0s 2ms/step - loss: 1499.4801\n",
      "Epoch 7/50\n",
      "23/23 [==============================] - 0s 2ms/step - loss: 1295.3823\n",
      "Epoch 8/50\n",
      "23/23 [==============================] - 0s 2ms/step - loss: 1107.5992\n",
      "Epoch 9/50\n",
      "23/23 [==============================] - 0s 2ms/step - loss: 949.8434\n",
      "Epoch 10/50\n",
      "23/23 [==============================] - 0s 2ms/step - loss: 811.8135\n",
      "Epoch 11/50\n",
      "23/23 [==============================] - 0s 2ms/step - loss: 698.7631\n",
      "Epoch 12/50\n",
      "23/23 [==============================] - 0s 2ms/step - loss: 594.7037\n",
      "Epoch 13/50\n",
      "23/23 [==============================] - 0s 2ms/step - loss: 512.7473\n",
      "Epoch 14/50\n",
      "23/23 [==============================] - 0s 1ms/step - loss: 445.2031\n",
      "Epoch 15/50\n",
      "23/23 [==============================] - 0s 1ms/step - loss: 391.2529\n",
      "Epoch 16/50\n",
      "23/23 [==============================] - 0s 2ms/step - loss: 351.1251\n",
      "Epoch 17/50\n",
      "23/23 [==============================] - 0s 1ms/step - loss: 315.6567\n",
      "Epoch 18/50\n",
      "23/23 [==============================] - 0s 2ms/step - loss: 288.2506\n",
      "Epoch 19/50\n",
      "23/23 [==============================] - 0s 1ms/step - loss: 266.8765\n",
      "Epoch 20/50\n",
      "23/23 [==============================] - 0s 1ms/step - loss: 253.6955\n",
      "Epoch 21/50\n",
      "23/23 [==============================] - 0s 2ms/step - loss: 237.7176\n",
      "Epoch 22/50\n",
      "23/23 [==============================] - 0s 2ms/step - loss: 227.4702\n",
      "Epoch 23/50\n",
      "23/23 [==============================] - 0s 1ms/step - loss: 216.8474\n",
      "Epoch 24/50\n",
      "23/23 [==============================] - 0s 1ms/step - loss: 209.4500\n",
      "Epoch 25/50\n",
      "23/23 [==============================] - 0s 1ms/step - loss: 202.5903\n",
      "Epoch 26/50\n",
      "23/23 [==============================] - 0s 2ms/step - loss: 195.8291\n",
      "Epoch 27/50\n",
      "23/23 [==============================] - 0s 1ms/step - loss: 190.1827\n",
      "Epoch 28/50\n",
      "23/23 [==============================] - 0s 1ms/step - loss: 185.6901\n",
      "Epoch 29/50\n",
      "23/23 [==============================] - 0s 2ms/step - loss: 181.4389\n",
      "Epoch 30/50\n",
      "23/23 [==============================] - 0s 2ms/step - loss: 178.3672\n",
      "Epoch 31/50\n",
      "23/23 [==============================] - 0s 2ms/step - loss: 176.8406\n",
      "Epoch 32/50\n",
      "23/23 [==============================] - 0s 2ms/step - loss: 173.7264\n",
      "Epoch 33/50\n",
      "23/23 [==============================] - 0s 2ms/step - loss: 167.5041\n",
      "Epoch 34/50\n",
      "23/23 [==============================] - 0s 2ms/step - loss: 165.6678\n",
      "Epoch 35/50\n",
      "23/23 [==============================] - 0s 2ms/step - loss: 160.9972\n",
      "Epoch 36/50\n",
      "23/23 [==============================] - 0s 2ms/step - loss: 159.5561\n",
      "Epoch 37/50\n",
      "23/23 [==============================] - 0s 2ms/step - loss: 157.0320\n",
      "Epoch 38/50\n",
      "23/23 [==============================] - 0s 2ms/step - loss: 157.3298\n",
      "Epoch 39/50\n",
      "23/23 [==============================] - 0s 2ms/step - loss: 154.2491\n",
      "Epoch 40/50\n",
      "23/23 [==============================] - 0s 2ms/step - loss: 150.2376\n",
      "Epoch 41/50\n",
      "23/23 [==============================] - 0s 2ms/step - loss: 147.2074\n",
      "Epoch 42/50\n",
      "23/23 [==============================] - 0s 2ms/step - loss: 147.5342\n",
      "Epoch 43/50\n",
      "23/23 [==============================] - 0s 4ms/step - loss: 144.8495\n",
      "Epoch 44/50\n",
      "23/23 [==============================] - 0s 2ms/step - loss: 143.1385\n",
      "Epoch 45/50\n",
      "23/23 [==============================] - 0s 2ms/step - loss: 141.2117\n",
      "Epoch 46/50\n",
      "23/23 [==============================] - 0s 2ms/step - loss: 140.7656\n",
      "Epoch 47/50\n",
      "23/23 [==============================] - 0s 2ms/step - loss: 140.3534\n",
      "Epoch 48/50\n",
      "23/23 [==============================] - 0s 2ms/step - loss: 140.9050\n",
      "Epoch 49/50\n",
      "23/23 [==============================] - 0s 2ms/step - loss: 141.3683\n",
      "Epoch 50/50\n",
      "23/23 [==============================] - 0s 2ms/step - loss: 144.3523\n"
     ]
    },
    {
     "data": {
      "text/plain": [
       "<keras.src.callbacks.History at 0x15edb6550>"
      ]
     },
     "execution_count": 17,
     "metadata": {},
     "output_type": "execute_result"
    }
   ],
   "source": [
    "# fit the model\n",
    "epochs = 50\n",
    "model.fit(X_train, y_train, epochs=epochs, verbose=1)"
   ]
  },
  {
   "cell_type": "markdown",
   "id": "087124a5-89c1-4398-aa36-04ffeae14e70",
   "metadata": {},
   "source": [
    "### 3. Evaluate the model on the test data and compute the mean squared error between the predicted concrete strength and the actual concrete strength. You can use the mean_squared_error function from Scikit-learn."
   ]
  },
  {
   "cell_type": "code",
   "execution_count": 18,
   "id": "0f60be73-dc2d-4331-8baa-171cdc700614",
   "metadata": {},
   "outputs": [
    {
     "name": "stdout",
     "output_type": "stream",
     "text": [
      "10/10 [==============================] - 0s 1ms/step - loss: 147.5996\n",
      "10/10 [==============================] - 0s 1ms/step\n"
     ]
    },
    {
     "data": {
      "text/plain": [
       "147.599609375"
      ]
     },
     "execution_count": 18,
     "metadata": {},
     "output_type": "execute_result"
    }
   ],
   "source": [
    "loss_val = model.evaluate(X_test, y_test)\n",
    "y_pred = model.predict(X_test)\n",
    "loss_val"
   ]
  },
  {
   "cell_type": "markdown",
   "id": "85861dc6-1103-4671-aeda-cf9a412e783b",
   "metadata": {},
   "source": [
    "Now we need to compute the mean squared error between the predicted concrete strength and the actual concrete strength."
   ]
  },
  {
   "cell_type": "code",
   "execution_count": 19,
   "id": "1c24e28d-b526-44c8-b2de-3e5216e71d09",
   "metadata": {},
   "outputs": [],
   "source": [
    "from sklearn.metrics import mean_squared_error"
   ]
  },
  {
   "cell_type": "code",
   "execution_count": 20,
   "id": "609418fc-4769-4fe0-9e92-2e355282f2d8",
   "metadata": {},
   "outputs": [
    {
     "name": "stdout",
     "output_type": "stream",
     "text": [
      "147.59958828051927 0.0\n"
     ]
    }
   ],
   "source": [
    "mean_square_error = mean_squared_error(y_test, y_pred)\n",
    "mean = np.mean(mean_square_error)\n",
    "standard_deviation = np.std(mean_square_error)\n",
    "print(mean, standard_deviation)"
   ]
  },
  {
   "cell_type": "markdown",
   "id": "c3c01887-7ccc-405c-8978-bb0d932638d9",
   "metadata": {},
   "source": [
    "Create a list of 50 mean squared errors and report mean and the standard deviation of the mean squared errors."
   ]
  },
  {
   "cell_type": "code",
   "execution_count": 21,
   "id": "2eb22512-b91d-40c0-b6bf-42e43afd7041",
   "metadata": {},
   "outputs": [
    {
     "name": "stdout",
     "output_type": "stream",
     "text": [
      "MSE 1: 94.79080963134766\n",
      "10/10 [==============================] - 0s 941us/step\n",
      "MSE 2: 112.55713653564453\n",
      "10/10 [==============================] - 0s 970us/step\n",
      "MSE 3: 68.93169403076172\n",
      "10/10 [==============================] - 0s 930us/step\n",
      "MSE 4: 72.1520767211914\n",
      "10/10 [==============================] - 0s 979us/step\n",
      "MSE 5: 63.011837005615234\n",
      "10/10 [==============================] - 0s 976us/step\n",
      "MSE 6: 57.713226318359375\n",
      "10/10 [==============================] - 0s 1ms/step\n",
      "MSE 7: 67.66876220703125\n",
      "10/10 [==============================] - 0s 984us/step\n",
      "MSE 8: 43.815887451171875\n",
      "10/10 [==============================] - 0s 1ms/step\n",
      "MSE 9: 49.158260345458984\n",
      "10/10 [==============================] - 0s 1ms/step\n",
      "MSE 10: 52.151363372802734\n",
      "10/10 [==============================] - 0s 1ms/step\n",
      "MSE 11: 51.90235900878906\n",
      "10/10 [==============================] - 0s 958us/step\n",
      "MSE 12: 46.06807327270508\n",
      "10/10 [==============================] - 0s 6ms/step\n",
      "MSE 13: 58.701210021972656\n",
      "10/10 [==============================] - 0s 1ms/step\n",
      "MSE 14: 54.128684997558594\n",
      "10/10 [==============================] - 0s 2ms/step\n",
      "MSE 15: 49.88032531738281\n",
      "10/10 [==============================] - 0s 1ms/step\n",
      "MSE 16: 43.0006217956543\n",
      "10/10 [==============================] - 0s 837us/step\n",
      "MSE 17: 48.008209228515625\n",
      "10/10 [==============================] - 0s 1ms/step\n",
      "MSE 18: 48.891353607177734\n",
      "10/10 [==============================] - 0s 954us/step\n",
      "MSE 19: 44.52439498901367\n",
      "10/10 [==============================] - 0s 1ms/step\n",
      "MSE 20: 50.97217559814453\n",
      "10/10 [==============================] - 0s 958us/step\n",
      "MSE 21: 43.27654266357422\n",
      "10/10 [==============================] - 0s 961us/step\n",
      "MSE 22: 46.198509216308594\n",
      "10/10 [==============================] - 0s 2ms/step\n",
      "MSE 23: 41.41676330566406\n",
      "10/10 [==============================] - 0s 949us/step\n",
      "MSE 24: 42.220115661621094\n",
      "10/10 [==============================] - 0s 3ms/step\n",
      "MSE 25: 48.17189407348633\n",
      "10/10 [==============================] - 0s 948us/step\n",
      "MSE 26: 64.15185546875\n",
      "10/10 [==============================] - 0s 2ms/step\n",
      "MSE 27: 47.22713088989258\n",
      "10/10 [==============================] - 0s 1ms/step\n",
      "MSE 28: 41.9851188659668\n",
      "10/10 [==============================] - 0s 2ms/step\n",
      "MSE 29: 51.8038215637207\n",
      "10/10 [==============================] - 0s 943us/step\n",
      "MSE 30: 46.99601364135742\n",
      "10/10 [==============================] - 0s 979us/step\n",
      "MSE 31: 50.54296875\n",
      "10/10 [==============================] - 0s 1ms/step\n",
      "MSE 32: 40.849891662597656\n",
      "10/10 [==============================] - 0s 3ms/step\n",
      "MSE 33: 46.716068267822266\n",
      "10/10 [==============================] - 0s 2ms/step\n",
      "MSE 34: 44.046043395996094\n",
      "10/10 [==============================] - 0s 1ms/step\n",
      "MSE 35: 43.931724548339844\n",
      "10/10 [==============================] - 0s 1ms/step\n",
      "MSE 36: 52.71038055419922\n",
      "10/10 [==============================] - 0s 957us/step\n",
      "MSE 37: 45.62427520751953\n",
      "10/10 [==============================] - 0s 4ms/step\n",
      "MSE 38: 51.31648635864258\n",
      "10/10 [==============================] - 0s 2ms/step\n",
      "MSE 39: 47.34677505493164\n",
      "10/10 [==============================] - 0s 2ms/step\n",
      "MSE 40: 45.026302337646484\n",
      "10/10 [==============================] - 0s 2ms/step\n",
      "MSE 41: 49.728660583496094\n",
      "10/10 [==============================] - 0s 928us/step\n",
      "MSE 42: 41.2242431640625\n",
      "10/10 [==============================] - 0s 1ms/step\n",
      "MSE 43: 44.992950439453125\n",
      "10/10 [==============================] - 0s 1ms/step\n",
      "MSE 44: 47.72245788574219\n",
      "10/10 [==============================] - 0s 1ms/step\n",
      "MSE 45: 52.75859451293945\n",
      "10/10 [==============================] - 0s 2ms/step\n",
      "MSE 46: 50.48796844482422\n",
      "10/10 [==============================] - 0s 2ms/step\n",
      "MSE 47: 46.60780334472656\n",
      "10/10 [==============================] - 0s 1ms/step\n",
      "MSE 48: 46.81218338012695\n",
      "10/10 [==============================] - 0s 2ms/step\n",
      "MSE 49: 49.562252044677734\n",
      "10/10 [==============================] - 0s 939us/step\n",
      "MSE 50: 47.41073989868164\n",
      "10/10 [==============================] - 0s 966us/step\n",
      "\n",
      "\n",
      "This is the mean and standard deviation of 50 mean squared errors without normalized data. Total number of epochs for each training is: 50\n",
      "\n",
      "Mean: 51.937900185645205\n",
      "Standard Deviation: 12.817966255108242\n"
     ]
    }
   ],
   "source": [
    "total_mean_squared_errors = 50\n",
    "epochs = 50\n",
    "mean_squared_errors = []\n",
    "for i in range(0, total_mean_squared_errors):\n",
    "    X_train, X_test, y_train, y_test = train_test_split(X,Y, test_size=0.3, random_state=i)\n",
    "    model.fit(X_train, y_train, epochs=epochs, verbose=0)\n",
    "    MSE = model.evaluate(X_test, y_test, verbose=0)\n",
    "    print(\"MSE \"+str(i+1)+\": \"+str(MSE))\n",
    "    y_pred = model.predict(X_test)\n",
    "    mean_square_error = mean_squared_error(y_test, y_pred)\n",
    "    mean_squared_errors.append(mean_square_error)\n",
    "\n",
    "mean_squared_errors = np.array(mean_squared_errors)\n",
    "mean = np.mean(mean_squared_errors)\n",
    "standard_deviation = np.std(mean_squared_errors)\n",
    "\n",
    "print('\\n')\n",
    "print(\"This is the mean and standard deviation of \" +str(total_mean_squared_errors) + \" mean squared errors without normalized data. Total number of epochs for each training is: \" +str(epochs) + \"\\n\")\n",
    "print(\"Mean: \"+str(mean))\n",
    "print(\"Standard Deviation: \"+str(standard_deviation))"
   ]
  },
  {
   "cell_type": "markdown",
   "id": "95c0051c-f749-4e82-83b7-e8d4ef0d4b16",
   "metadata": {},
   "source": [
    "### How does the mean of the mean squared errors compare to that from Step A?\n",
    "\n",
    "It seems that by normalizing the predictors, the value of MSE doesn't change much, but the value of the standard deviation increasing"
   ]
  },
  {
   "cell_type": "code",
   "execution_count": null,
   "id": "2e3ceecc-2a98-423c-a553-731dddebaa61",
   "metadata": {},
   "outputs": [],
   "source": []
  }
 ],
 "metadata": {
  "kernelspec": {
   "display_name": "Python 3 (ipykernel)",
   "language": "python",
   "name": "python3"
  },
  "language_info": {
   "codemirror_mode": {
    "name": "ipython",
    "version": 3
   },
   "file_extension": ".py",
   "mimetype": "text/x-python",
   "name": "python",
   "nbconvert_exporter": "python",
   "pygments_lexer": "ipython3",
   "version": "3.11.5"
  }
 },
 "nbformat": 4,
 "nbformat_minor": 5
}
